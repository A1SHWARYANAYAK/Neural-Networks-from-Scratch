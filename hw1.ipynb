{
 "cells": [
  {
   "cell_type": "markdown",
   "metadata": {
    "id": "k7ukMzSWsilG"
   },
   "source": [
    "# 1. Linear/Logistic Regression as A Single-layer Fully Connected Neural Network  [40pts]"
   ]
  },
  {
   "cell_type": "markdown",
   "metadata": {
    "id": "9_P2m19XsilH"
   },
   "source": [
    "# ![title](img/1.png)"
   ]
  },
  {
   "cell_type": "markdown",
   "metadata": {
    "id": "xQ8rRjJTsilH"
   },
   "source": [
    "We can think of linear/logistic regression as a single-layer fully connected neural network with different prediction head (SoftMax for logistic regression), as the input is $x_1$, $x_2$ to $x_d$ where $d$ is the input dimension, and a single computed neuron outputs a single numerical value $o_1$. We will first focus on the single-layer fully connected neural network for regression on the synthetic data in $1.1$ and for classification on MNIST dataset in $1.2$. In $1.3$, we will implement Multilayer Perceptrons (MLP) for classification on MNIST dataset."
   ]
  },
  {
   "cell_type": "markdown",
   "metadata": {
    "id": "SUb7dTq7silI"
   },
   "source": [
    "## 1.1 Linear Neural Networks for regression\n"
   ]
  },
  {
   "cell_type": "code",
   "execution_count": 1,
   "metadata": {
    "colab": {
     "base_uri": "https://localhost:8080/"
    },
    "id": "5ShfFBAssilI",
    "outputId": "2c895f01-1b52-4b55-a9fb-b562386df390",
    "tags": []
   },
   "outputs": [
    {
     "name": "stdout",
     "output_type": "stream",
     "text": [
      "Requirement already satisfied: torch in /usr/local/lib/python3.10/dist-packages (2.5.0+cu121)\n",
      "Requirement already satisfied: filelock in /usr/local/lib/python3.10/dist-packages (from torch) (3.16.1)\n",
      "Requirement already satisfied: typing-extensions>=4.8.0 in /usr/local/lib/python3.10/dist-packages (from torch) (4.12.2)\n",
      "Requirement already satisfied: networkx in /usr/local/lib/python3.10/dist-packages (from torch) (3.4.2)\n",
      "Requirement already satisfied: jinja2 in /usr/local/lib/python3.10/dist-packages (from torch) (3.1.4)\n",
      "Requirement already satisfied: fsspec in /usr/local/lib/python3.10/dist-packages (from torch) (2024.10.0)\n",
      "Requirement already satisfied: sympy==1.13.1 in /usr/local/lib/python3.10/dist-packages (from torch) (1.13.1)\n",
      "Requirement already satisfied: mpmath<1.4,>=1.1.0 in /usr/local/lib/python3.10/dist-packages (from sympy==1.13.1->torch) (1.3.0)\n",
      "Requirement already satisfied: MarkupSafe>=2.0 in /usr/local/lib/python3.10/dist-packages (from jinja2->torch) (3.0.2)\n"
     ]
    }
   ],
   "source": [
    "!pip install torch"
   ]
  },
  {
   "cell_type": "code",
   "execution_count": 2,
   "metadata": {
    "id": "X74XogNLsilJ",
    "tags": []
   },
   "outputs": [],
   "source": [
    "import numpy as np\n",
    "import torch\n",
    "import torch.nn as nn\n",
    "from torch.utils.data import Dataset, DataLoader\n",
    "import torch.optim as optim"
   ]
  },
  {
   "cell_type": "markdown",
   "metadata": {
    "id": "1zM04vvesilJ"
   },
   "source": [
    "### Task 1: Synthetic Data\n",
    "\n",
    "We aim to synthesize data from the following linear model:\n",
    "\n",
    "$\\mathbf{y}=\\mathbf{X} \\mathbf{w}+b+\\boldsymbol{\\epsilon},$\n",
    "\n",
    "where $\\mathbf{X} \\in \\mathbb{R}^{n \\times d}$, $\\boldsymbol{\\epsilon}\\in\\mathbb{R}^{n \\times 1}$, $\\mathbf{w}\\in\\mathbb{R}^{d \\times 1}$ and $\\mathbf{y}\\in\\mathbb{R}^{n \\times 1}$. Sample $\\mathbf{X}$ and $\\boldsymbol{\\epsilon}$ from normal distribution ( ${\\mu=0,\\sigma=1}$ for $\\mathbf{X}$, ${\\mu=0,\\sigma=0.01}$ for $\\boldsymbol{\\epsilon}$ ). With your setted $\\mathbf{w}$ and $b$, synthetic $y$ is also formed."
   ]
  },
  {
   "cell_type": "code",
   "execution_count": 3,
   "metadata": {
    "id": "El-REIRVsilJ",
    "tags": []
   },
   "outputs": [],
   "source": [
    "\n",
    "class SyntheticRegressionData(Dataset):\n",
    "    def __init__(self, w, b, noise=0.01, num_train=1000, num_val=1000):\n",
    "        super(SyntheticRegressionData, self).__init__()\n",
    "        self.w = w\n",
    "        self.b = b\n",
    "        self.noise = noise\n",
    "        self.num_train = num_train\n",
    "        self.num_val = num_val\n",
    "        self.total_samples = num_train + num_val\n",
    "        self.prepare_data()\n",
    "\n",
    "    def prepare_data(self):\n",
    "        # sample X, noise using torch.randn\n",
    "        ############ Answer here ############\n",
    "        self.X = torch.randn(self.total_samples, len(self.w))\n",
    "        noise = torch.randn(self.total_samples, 1) * self.noise\n",
    "        #####################################\n",
    "\n",
    "        # generate y using torch.randn torch.matmul\n",
    "        #\\mathbf{y}=\\mathbf{X} \\mathbf{w}+b+\\boldsymbol{\\epsilon}\n",
    "        ############ Answer here ############\n",
    "        self.y = torch.matmul(self.X, self.w) + self.b + noise\n",
    "        #####################################\n",
    "\n",
    "    def __len__(self):\n",
    "        return self.total_samples\n",
    "\n",
    "    def __getitem__(self, idx):\n",
    "        return self.X[idx], self.y[idx]"
   ]
  },
  {
   "cell_type": "markdown",
   "metadata": {
    "id": "Qi5XQfgusilJ"
   },
   "source": [
    "### Task 2: Formulate Linear Neural Networks Model\n",
    "\n",
    "Complete the class `LinearRegression` with torch. Hint provided."
   ]
  },
  {
   "cell_type": "code",
   "execution_count": 4,
   "metadata": {
    "id": "EAJiQMiFsilJ",
    "tags": []
   },
   "outputs": [],
   "source": [
    "import torch.nn as nn\n",
    "import torch.optim as optim\n",
    "\n",
    "class LinearRegression(nn.Module):\n",
    "    # define the learning rate, single-layer Linear Neural Networks `net` using linear layer in torch.nn. Default dimension: d=2\n",
    "    def __init__(self, lr, input_dim=2):\n",
    "        super(LinearRegression, self).__init__()\n",
    "        ############ Answer here ############\n",
    "        self.lr =  lr\n",
    "        self.net = nn.Linear(input_dim, 1)\n",
    "        #####################################\n",
    "        self.init_weights()\n",
    "\n",
    "    # using nn.init to initialize net.weight (normal_, mean=0, std=0.01) and net.bias (constant_, mean=0).\n",
    "    def init_weights(self):\n",
    "        ############ Answer here ############\n",
    "        nn.init.normal_(self.net.weight, mean=0, std=0.01)\n",
    "        nn.init.constant_(self.net.bias, 0)\n",
    "        #####################################\n",
    "\n",
    "    # define the forward funtion for forward propagation of `net`\n",
    "    def forward(self, x):\n",
    "        ############ Answer here ############\n",
    "        return self.net(x)\n",
    "        #####################################\n",
    "\n",
    "    # define the MSE loss funtion for the regression task.\n",
    "    def loss(self, y_hat, y):\n",
    "        ############ Answer here ############\n",
    "        criterion = nn.MSELoss()\n",
    "        return criterion(y_hat, y)\n",
    "        #####################################\n",
    "\n",
    "    # define the SGD optimizer from torch for back propagation\n",
    "    def optimizers(self):\n",
    "        ############ Answer here ############\n",
    "        return optim.SGD(self.parameters(), lr=self.lr)\n",
    "        #####################################"
   ]
  },
  {
   "cell_type": "markdown",
   "metadata": {
    "id": "Ugx2MwEysilK"
   },
   "source": [
    "### Task 3: Define the Trainer for Regression\n",
    "\n",
    "Complete the class `Trainer_reg` with torch. Hint provided.\n",
    "\n",
    "You will implement `__init__` to split the data and initialize the training setting, the training function `fit` for model training and `plot_losses` to plot `train_loss` and `val_loss` of each epoch."
   ]
  },
  {
   "cell_type": "code",
   "execution_count": 5,
   "metadata": {
    "id": "kiYr5DATsilK",
    "tags": []
   },
   "outputs": [],
   "source": [
    "import matplotlib.pyplot as plt\n",
    "import torch\n",
    "from torch.utils.data import DataLoader, random_split\n",
    "\n",
    "class Trainer_reg:\n",
    "    def __init__(self, model, data, max_epochs=3, batch_size=32, val_ratio=0.2,device='cpu'):\n",
    "        # Initialize the model and training setting\n",
    "        ############ Answer here ############\n",
    "        self.model = model.to(device)\n",
    "        self.max_epochs = max_epochs\n",
    "        self.batch_size = batch_size\n",
    "        self.optimizer = model.optimizers()\n",
    "        self.device= device\n",
    "        #####################################\n",
    "\n",
    "        # Split data into training and validation sets with the `val_ratio` and define the train_loader and val_loader using `DataLoader` with the `batch_size`\n",
    "        ############ Answer here ############\n",
    "        train_size = int((1 - val_ratio) * len(data))\n",
    "        val_size = len(data) - train_size\n",
    "        self.train_data, self.val_data = random_split(data, [train_size, val_size])\n",
    "        self.train_loader = DataLoader(self.train_data, batch_size=batch_size, shuffle=True)\n",
    "        self.val_loader = DataLoader(self.val_data, batch_size=batch_size, shuffle=False)\n",
    "        #####################################\n",
    "\n",
    "        # To store the losses for plotting\n",
    "        self.train_losses = []\n",
    "        self.val_losses = []\n",
    "\n",
    "    def fit(self):\n",
    "        #define each training epoch\n",
    "        for epoch in range(self.max_epochs):\n",
    "            # set training mode\n",
    "            ############ Answer here ############\n",
    "            self.model.train()\n",
    "            #####################################\n",
    "\n",
    "            train_loss = 0\n",
    "            # forward then back propagation for each batch\n",
    "            for X, y in self.train_loader:\n",
    "                if self.device == 'cuda' :\n",
    "                        X, y = X.to('cuda'), y.to('cuda')\n",
    "                else:\n",
    "                        X, y = X.float(), y.float() #y.long()\n",
    "                # forward propagation for prediction\n",
    "                ############ Answer here ############\n",
    "                y_hat = self.model(X)\n",
    "                #####################################\n",
    "\n",
    "                # loss computation\n",
    "                ############ Answer here ############\n",
    "                loss = self.model.loss(y_hat, y)\n",
    "                #####################################\n",
    "\n",
    "                # 3 steps for back propagation: (1) clear the gradient in the optimizer; (2) backward the loss to get the gradient of each parameter; (3) update the parameters using optimizer.\n",
    "                ############ Answer here ############\n",
    "                self.optimizer.zero_grad()\n",
    "                loss.backward()\n",
    "                self.optimizer.step()\n",
    "                #####################################\n",
    "\n",
    "                train_loss += loss.item() * X.size(0)\n",
    "            avg_train_loss = train_loss / len(self.train_data)\n",
    "\n",
    "            # Validation phase\n",
    "            # set evaluation model for model\n",
    "            ############ Answer here ############\n",
    "            self.model.eval()\n",
    "            #####################################\n",
    "\n",
    "            val_loss = 0\n",
    "            # set torch with forwarding without gradient awareness\n",
    "            ############ Answer here ############\n",
    "            with torch.no_grad():\n",
    "            #####################################\n",
    "              for X, y in self.val_loader:\n",
    "                if self.device == 'cuda' :\n",
    "                        X, y = X.to('cuda'), y.to('cuda')\n",
    "                else:\n",
    "                        X, y = X.float(), y.float() #y.long()\n",
    "                # forward propagation and compute loss for each batch\n",
    "                    ############ Answer here ############\n",
    "                y_hat = self.model(X)\n",
    "                loss = self.model.loss(y_hat, y)\n",
    "                    #####################################\n",
    "                val_loss += loss.item() * X.size(0)\n",
    "            avg_val_loss = val_loss / len(self.val_data)\n",
    "\n",
    "            # Logging the losses\n",
    "            self.train_losses.append(avg_train_loss)\n",
    "            self.val_losses.append(avg_val_loss)\n",
    "\n",
    "            print(f'Epoch [{epoch + 1}/{self.max_epochs}], Train Loss: {avg_train_loss:.4f}, Val Loss: {avg_val_loss:.4f}')\n",
    "\n",
    "    def plot_losses(self):\n",
    "        # plot `self.train_losses` and `self.val_losses` for all epochs\n",
    "        ############ Answer here ############\n",
    "        plt.plot(self.train_losses, label='Train Loss')\n",
    "        plt.plot(self.val_losses, label='Validation Loss')\n",
    "        plt.xlabel('Epoch')\n",
    "        plt.ylabel('Loss')\n",
    "        plt.legend()\n",
    "        plt.show()\n",
    "        #####################################"
   ]
  },
  {
   "cell_type": "markdown",
   "metadata": {
    "id": "iS4S5pRZsilK"
   },
   "source": [
    "### Task 4: Train Your Model\n",
    "\n",
    "Use your completed `LinearRegression`, `SyntheticRegressionData` and `Trainer` to implement the following cell."
   ]
  },
  {
   "cell_type": "code",
   "execution_count": 6,
   "metadata": {
    "colab": {
     "base_uri": "https://localhost:8080/",
     "height": 719
    },
    "id": "VxAf__21silK",
    "outputId": "25328d5e-03cd-400d-8ce9-0825ba970173",
    "tags": []
   },
   "outputs": [
    {
     "name": "stderr",
     "output_type": "stream",
     "text": [
      "/usr/local/lib/python3.10/dist-packages/torch/nn/modules/loss.py:608: UserWarning: Using a target size (torch.Size([32, 2000])) that is different to the input size (torch.Size([32, 1])). This will likely lead to incorrect results due to broadcasting. Please ensure they have the same size.\n",
      "  return F.mse_loss(input, target, reduction=self.reduction)\n",
      "/usr/local/lib/python3.10/dist-packages/torch/nn/modules/loss.py:608: UserWarning: Using a target size (torch.Size([16, 2000])) that is different to the input size (torch.Size([16, 1])). This will likely lead to incorrect results due to broadcasting. Please ensure they have the same size.\n",
      "  return F.mse_loss(input, target, reduction=self.reduction)\n"
     ]
    },
    {
     "name": "stdout",
     "output_type": "stream",
     "text": [
      "Epoch [1/10], Train Loss: 22.3876, Val Loss: 17.2464\n",
      "Epoch [2/10], Train Loss: 15.9947, Val Loss: 15.3148\n",
      "Epoch [3/10], Train Loss: 15.1481, Val Loss: 15.0578\n",
      "Epoch [4/10], Train Loss: 15.0355, Val Loss: 15.0235\n",
      "Epoch [5/10], Train Loss: 15.0205, Val Loss: 15.0189\n",
      "Epoch [6/10], Train Loss: 15.0185, Val Loss: 15.0183\n",
      "Epoch [7/10], Train Loss: 15.0182, Val Loss: 15.0182\n",
      "Epoch [8/10], Train Loss: 15.0182, Val Loss: 15.0182\n",
      "Epoch [9/10], Train Loss: 15.0182, Val Loss: 15.0182\n",
      "Epoch [10/10], Train Loss: 15.0182, Val Loss: 15.0182\n"
     ]
    },
    {
     "data": {
      "image/png": "[encoded data removed]",
      "text/plain": [
       "<Figure size 640x480 with 1 Axes>"
      ]
     },
     "metadata": {},
     "output_type": "display_data"
    }
   ],
   "source": [
    "############ Answer here ############\n",
    "# (1) Instantiate your model with your defined 'LinearRegression'\n",
    "model = LinearRegression(lr=0.01, input_dim=2)\n",
    "# (2) generate the synthetic data with your defined w and b\n",
    "w = torch.tensor([2.0, -3.4])\n",
    "b = torch.tensor([4.2])\n",
    "data = SyntheticRegressionData(w, b)\n",
    "# (3) Instantiate the trainer and fit your model\n",
    "trainer = Trainer_reg(model, data, max_epochs=10, batch_size=32, device='cpu')\n",
    "# (4) Start training\n",
    "trainer.fit()\n",
    "#####################################\n",
    "\n",
    "# plot the loss\n",
    "trainer.plot_losses()"
   ]
  },
  {
   "cell_type": "markdown",
   "metadata": {
    "id": "IyFffgussilK"
   },
   "source": [
    "## 1.2 Single-layer Neural Networks for classification\n",
    "\n",
    "In this part, we will build a single-layer Neural Network for classification on MNIST dataset. THe differences are (1)additional SoftMax function is applied on the outputs, (2) Cross Entropy loss instead of MSE.\n"
   ]
  },
  {
   "cell_type": "markdown",
   "metadata": {
    "id": "QnP1K2OisilK"
   },
   "source": [
    "### Task 5: Formulate the Single-layer Neural Networks Model for Classification\n",
    "\n",
    "Following Task 2, complete the following `SoftmaxRegression` class.\n",
    "\n",
    "Hint: you can use F.softmax for SoftMax function and the input image need to be flattened before feeded into the linear layer."
   ]
  },
  {
   "cell_type": "code",
   "execution_count": 7,
   "metadata": {
    "id": "KOhyDqlFsilK"
   },
   "outputs": [],
   "source": [
    "import torch.nn.functional as F\n",
    "\n",
    "class SoftmaxRegression(nn.Module):\n",
    "    \"\"\"The softmax regression model.\"\"\"\n",
    "    def __init__(self, num_outputs, lr):\n",
    "        super(SoftmaxRegression, self).__init__()\n",
    "        ############ Answer here ############\n",
    "        self.lr = lr\n",
    "        self.net = nn.Sequential(\n",
    "           nn.Flatten(),   # Flatten the input tensor\n",
    "           nn.Linear(28 * 28, num_outputs)   # linear layer to output logits\n",
    "        )\n",
    "        #####################################\n",
    "\n",
    "    def forward(self, X):\n",
    "        #forward propagation with softmax\n",
    "        ############ Answer here ############\n",
    "        logits = self.net(X)\n",
    "        return F.softmax(logits, dim=1)\n",
    "        #####################################\n",
    "\n",
    "    # define the cross entropy loss funtion for the classification task.\n",
    "    def loss(self, Y_hat, Y, averaged=True):\n",
    "        ############ Answer here ############\n",
    "        #####################################\n",
    "        criterion = nn.CrossEntropyLoss()\n",
    "        return criterion(Y_hat, Y)\n",
    "        #####################################\n",
    "\n",
    "    # define the SGD optimizer from torch for back propagation\n",
    "    def optimizers(self):\n",
    "        ############ Answer here ############\n",
    "        return optim.SGD(self.parameters(), lr=self.lr)\n",
    "        #####################################"
   ]
  },
  {
   "cell_type": "markdown",
   "metadata": {
    "id": "6PHs8l1zsilK"
   },
   "source": [
    "### Task 6: Define the Trainer for Classification\n",
    "\n",
    "Most of `Trainer_cls` is similar with the `Trainer_reg` in Task 3. For Task 6, you need additionally compute the validation accuracy in `Trainer_cls`\n",
    "\n",
    "For Task 6, you need additionally compute the validation accuracy,  plot all epoches' `val_acc` with `train_loss` and `val_loss` in `plot_losses`."
   ]
  },
  {
   "cell_type": "code",
   "execution_count": 8,
   "metadata": {
    "id": "Wvx7FVWLsilL"
   },
   "outputs": [],
   "source": [
    "import torch\n",
    "from torch.utils.data import DataLoader, random_split\n",
    "import matplotlib.pyplot as plt\n",
    "\n",
    "class Trainer_cls:\n",
    "    def __init__(self, model, data, max_epochs=3, batch_size=32, val_ratio=0.2,device='cpu'):\n",
    "        ############ Answer here ############\n",
    "        self.model = model.to(device)\n",
    "        self.max_epochs = max_epochs\n",
    "        self.batch_size = batch_size\n",
    "        self.device = device\n",
    "        self.optimizer = model.optimizers()\n",
    "\n",
    "        # Split data into training and validation sets\n",
    "        train_size = int((1 - val_ratio) * len(data))\n",
    "        val_size = len(data) - train_size\n",
    "        self.train_data, self.val_data = random_split(data, [train_size, val_size])\n",
    "        self.train_loader = DataLoader(self.train_data, batch_size=batch_size, shuffle=True)\n",
    "        self.val_loader = DataLoader(self.val_data, batch_size=batch_size, shuffle=False)\n",
    "        #####################################\n",
    "\n",
    "        # To store the metrics for plotting\n",
    "        self.train_losses = []\n",
    "        self.val_losses = []\n",
    "        self.val_acc = []  # To store validation accuracy\n",
    "\n",
    "    def fit(self):\n",
    "        for epoch in range(self.max_epochs):\n",
    "            ############ Answer here ############\n",
    "            # Validation phase should include validation accuracy\n",
    "            self.model.train()\n",
    "            train_loss = 0.0\n",
    "            for X, Y in self.train_loader:\n",
    "                X, Y = X.to(self.device), Y.to(self.device)\n",
    "                # Forward pass\n",
    "                Y_hat = self.model(X)\n",
    "                loss = self.model.loss(Y_hat, Y)\n",
    "                # Backward pass and optimization\n",
    "                self.optimizer.zero_grad()\n",
    "                loss.backward()\n",
    "                self.optimizer.step()\n",
    "                train_loss += loss.item() * X.size(0)\n",
    "            avg_train_loss = train_loss / len(self.train_loader.dataset)\n",
    "\n",
    "            # Validation phase\n",
    "            self.model.eval()\n",
    "            val_loss = 0.0\n",
    "            correct = 0\n",
    "            total = 0\n",
    "            with torch.no_grad():\n",
    "                for X, Y in self.val_loader:\n",
    "                    X, Y = X.to(self.device), Y.to(self.device)\n",
    "                    Y_hat = self.model(X)\n",
    "                    loss = self.model.loss(Y_hat, Y)\n",
    "                    val_loss += loss.item() * X.size(0)\n",
    "                    _, predicted = torch.max(Y_hat, 1)\n",
    "                    total += Y.size(0)\n",
    "                    correct += (predicted == Y).sum().item()\n",
    "            avg_val_loss = val_loss / len(self.val_loader.dataset)\n",
    "            #####################################\n",
    "            val_accuracy = 100 * correct / total\n",
    "\n",
    "            # Logging the metrics\n",
    "            self.train_losses.append(avg_train_loss)\n",
    "            self.val_losses.append(avg_val_loss)\n",
    "            self.val_acc.append(val_accuracy)\n",
    "\n",
    "            print(f'Epoch [{epoch + 1}/{self.max_epochs}]: Train Loss: {avg_train_loss:.4f}, Val Loss: {avg_val_loss:.4f}, Val Acc: {val_accuracy:.2f}%')\n",
    "\n",
    "    def plot_losses(self):\n",
    "        # plot `self.train_losses`, `self.val_losses` and `self.val_acc` for all epochs\n",
    "        ############ Answer here ############\n",
    "        plt.plot(self.train_losses, label='Train Loss')\n",
    "        plt.plot(self.val_losses, label='Validation Loss')\n",
    "        plt.plot(self.val_acc, label='Validation Accuracy')\n",
    "        plt.xlabel('Epochs')\n",
    "        plt.ylabel('Metrics')\n",
    "        plt.legend()\n",
    "        plt.show()\n",
    "        #####################################"
   ]
  },
  {
   "cell_type": "markdown",
   "metadata": {
    "id": "E0e-YFftsilL"
   },
   "source": [
    "### Task 7: Train Your Model\n",
    "\n",
    "Use your completed `SoftmaxRegression`, `Trainer_cls` to implement the following cell.\n"
   ]
  },
  {
   "cell_type": "code",
   "execution_count": 9,
   "metadata": {
    "colab": {
     "base_uri": "https://localhost:8080/"
    },
    "id": "SqCVjtc8silL",
    "outputId": "e5db2b01-083f-40c6-a164-81fef02e6d90",
    "tags": []
   },
   "outputs": [
    {
     "name": "stdout",
     "output_type": "stream",
     "text": [
      "Requirement already satisfied: torchvision in /usr/local/lib/python3.10/dist-packages (0.20.0+cu121)\n",
      "Requirement already satisfied: numpy in /usr/local/lib/python3.10/dist-packages (from torchvision) (1.26.4)\n",
      "Requirement already satisfied: torch==2.5.0 in /usr/local/lib/python3.10/dist-packages (from torchvision) (2.5.0+cu121)\n",
      "Requirement already satisfied: pillow!=8.3.*,>=5.3.0 in /usr/local/lib/python3.10/dist-packages (from torchvision) (11.0.0)\n",
      "Requirement already satisfied: filelock in /usr/local/lib/python3.10/dist-packages (from torch==2.5.0->torchvision) (3.16.1)\n",
      "Requirement already satisfied: typing-extensions>=4.8.0 in /usr/local/lib/python3.10/dist-packages (from torch==2.5.0->torchvision) (4.12.2)\n",
      "Requirement already satisfied: networkx in /usr/local/lib/python3.10/dist-packages (from torch==2.5.0->torchvision) (3.4.2)\n",
      "Requirement already satisfied: jinja2 in /usr/local/lib/python3.10/dist-packages (from torch==2.5.0->torchvision) (3.1.4)\n",
      "Requirement already satisfied: fsspec in /usr/local/lib/python3.10/dist-packages (from torch==2.5.0->torchvision) (2024.10.0)\n",
      "Requirement already satisfied: sympy==1.13.1 in /usr/local/lib/python3.10/dist-packages (from torch==2.5.0->torchvision) (1.13.1)\n",
      "Requirement already satisfied: mpmath<1.4,>=1.1.0 in /usr/local/lib/python3.10/dist-packages (from sympy==1.13.1->torch==2.5.0->torchvision) (1.3.0)\n",
      "Requirement already satisfied: MarkupSafe>=2.0 in /usr/local/lib/python3.10/dist-packages (from jinja2->torch==2.5.0->torchvision) (3.0.2)\n"
     ]
    }
   ],
   "source": [
    "pip install torchvision"
   ]
  },
  {
   "cell_type": "code",
   "execution_count": 10,
   "metadata": {
    "colab": {
     "base_uri": "https://localhost:8080/",
     "height": 628
    },
    "id": "42k2UU0YsilL",
    "outputId": "96caa100-e539-4be8-b5b0-5477bf2c1720"
   },
   "outputs": [
    {
     "name": "stdout",
     "output_type": "stream",
     "text": [
      "Epoch [1/10]: Train Loss: 1.8334, Val Loss: 1.7370, Val Acc: 76.05%\n",
      "Epoch [2/10]: Train Loss: 1.7249, Val Loss: 1.7103, Val Acc: 77.91%\n",
      "Epoch [3/10]: Train Loss: 1.7069, Val Loss: 1.6982, Val Acc: 78.70%\n",
      "Epoch [4/10]: Train Loss: 1.6971, Val Loss: 1.6908, Val Acc: 79.25%\n",
      "Epoch [5/10]: Train Loss: 1.6904, Val Loss: 1.6860, Val Acc: 79.59%\n",
      "Epoch [6/10]: Train Loss: 1.6859, Val Loss: 1.6811, Val Acc: 79.81%\n",
      "Epoch [7/10]: Train Loss: 1.6822, Val Loss: 1.6783, Val Acc: 80.05%\n",
      "Epoch [8/10]: Train Loss: 1.6790, Val Loss: 1.6749, Val Acc: 80.20%\n",
      "Epoch [9/10]: Train Loss: 1.6764, Val Loss: 1.6733, Val Acc: 80.33%\n",
      "Epoch [10/10]: Train Loss: 1.6742, Val Loss: 1.6706, Val Acc: 80.56%\n"
     ]
    },
    {
     "data": {
      "image/png": "[encoded data removed]",
      "text/plain": [
       "<Figure size 640x480 with 1 Axes>"
      ]
     },
     "metadata": {},
     "output_type": "display_data"
    }
   ],
   "source": [
    "from torchvision import datasets, transforms\n",
    "from torch.utils.data import DataLoader\n",
    "\n",
    "############ Answer here ############\n",
    "# (1) Load the full Fashion MNIST dataset with torchvision.datasets\n",
    "transform = transforms.Compose([transforms.ToTensor(), transforms.Normalize((0.5,), (0.5,))])\n",
    "MNISTdataset = datasets.FashionMNIST(root='./data', train=True, download=True, transform=transform)\n",
    "\n",
    "# (2) Define batch size and instantiate the model\n",
    "batch_size = 256\n",
    "model = SoftmaxRegression(num_outputs=10, lr=0.1)\n",
    "\n",
    "# (3) Instantiate the trainer with the full dataset (Trainer will handle splitting)\n",
    "trainer = Trainer_cls(model, MNISTdataset, max_epochs=10, batch_size=batch_size, device='cpu')\n",
    "\n",
    "# (4) Start training\n",
    "trainer.fit()\n",
    "#####################################\n",
    "\n",
    "# (5)plot the losses and accuracies\n",
    "trainer.plot_losses()\n",
    "\n"
   ]
  },
  {
   "cell_type": "markdown",
   "metadata": {
    "id": "_3RISEDbsilL"
   },
   "source": [
    "#  2. Multilayer Perceptrons for Classification [20pts]\n",
    "\n",
    "Since focusing on the same task of 1.2, you only need to complete the `MLP` model class as following task and use the same `Trainer_cls` in 1.2."
   ]
  },
  {
   "cell_type": "markdown",
   "metadata": {
    "id": "HWYN_O93silL"
   },
   "source": [
    "### Task 8: Build 3-layer Multilayer Perceptrons (MLP) for classification on MNIST dataset\n",
    "\n",
    "Complete the class `MLP` with torch. The architecture of the MLP to be built is 3-layer with ReLU as the activation function. And there is a dropout layer for after layer 1/layer 2's activation. Most of implementations are similar with those in Task 5 except the model architecture.\n",
    "\n",
    "Hint: define the net in nn.Sequential similar with above task with the proper layer arrangement."
   ]
  },
  {
   "cell_type": "code",
   "execution_count": 11,
   "metadata": {
    "id": "Kxb13S6msilL"
   },
   "outputs": [],
   "source": [
    "import torch.nn.functional as F\n",
    "\n",
    "class MLP(nn.Module):\n",
    "    \"\"\"The softmax regression model.\"\"\"\n",
    "    def __init__(self, num_outputs,num_hiddens1,num_hiddens2,dropout_rate, lr):\n",
    "        super(MLP, self).__init__()\n",
    "        ############ Answer here ############\n",
    "        self.lr = lr\n",
    "        # Flatten -> linear -> ReLU -> Dropout -> linear -> ReLU -> Dropout -> linear\n",
    "        self.net = nn.Sequential(\n",
    "            nn.Flatten(),\n",
    "            nn.Linear(28 * 28, num_hiddens1),\n",
    "            nn.ReLU(),\n",
    "            nn.Dropout(dropout_rate),\n",
    "            nn.Linear(num_hiddens1, num_hiddens2),\n",
    "            nn.ReLU(),\n",
    "            nn.Dropout(dropout_rate),\n",
    "            nn.Linear(num_hiddens2, num_outputs)\n",
    "        )\n",
    "        #####################################\n",
    "\n",
    "    # similar with  task 5\n",
    "    def forward(self, X):\n",
    "        ############ Answer here ############\n",
    "        return self.net(X)\n",
    "        #####################################\n",
    "\n",
    "    # similar with  task 5\n",
    "    def loss(self, Y_hat, Y, averaged=True):\n",
    "        ############ Answer here ############\n",
    "        criterion = nn.CrossEntropyLoss()\n",
    "        return criterion(Y_hat, Y)\n",
    "        #####################################\n",
    "\n",
    "    # similar with  task 5\n",
    "    def optimizers(self):\n",
    "        ############ Answer here ############\n",
    "        return optim.SGD(self.parameters(), lr=self.lr)\n",
    "        #####################################"
   ]
  },
  {
   "cell_type": "markdown",
   "metadata": {
    "id": "7aLrs-4_silL"
   },
   "source": [
    "### Task 9: Train Your Model\n",
    "\n",
    "Use your completed `MLP`, `Trainer_cls` in Task 6 to implement the following cell."
   ]
  },
  {
   "cell_type": "code",
   "execution_count": 12,
   "metadata": {
    "colab": {
     "base_uri": "https://localhost:8080/",
     "height": 628
    },
    "id": "CykDAWMWsilL",
    "outputId": "41bcd071-e4ed-4cd6-ae7e-13e0bdaf7dc4"
   },
   "outputs": [
    {
     "name": "stdout",
     "output_type": "stream",
     "text": [
      "Epoch [1/10]: Train Loss: 1.1372, Val Loss: 0.6435, Val Acc: 75.54%\n",
      "Epoch [2/10]: Train Loss: 0.7212, Val Loss: 0.5526, Val Acc: 78.26%\n",
      "Epoch [3/10]: Train Loss: 0.6357, Val Loss: 0.4955, Val Acc: 81.97%\n",
      "Epoch [4/10]: Train Loss: 0.5887, Val Loss: 0.4781, Val Acc: 82.48%\n",
      "Epoch [5/10]: Train Loss: 0.5578, Val Loss: 0.4599, Val Acc: 83.67%\n",
      "Epoch [6/10]: Train Loss: 0.5341, Val Loss: 0.4471, Val Acc: 83.65%\n",
      "Epoch [7/10]: Train Loss: 0.5200, Val Loss: 0.4353, Val Acc: 84.17%\n",
      "Epoch [8/10]: Train Loss: 0.5041, Val Loss: 0.4405, Val Acc: 83.73%\n",
      "Epoch [9/10]: Train Loss: 0.4906, Val Loss: 0.4193, Val Acc: 84.77%\n",
      "Epoch [10/10]: Train Loss: 0.4829, Val Loss: 0.4205, Val Acc: 84.43%\n"
     ]
    },
    {
     "data": {
      "image/png": "[encoded data removed]",
      "text/plain": [
       "<Figure size 640x480 with 1 Axes>"
      ]
     },
     "metadata": {},
     "output_type": "display_data"
    }
   ],
   "source": [
    "from torchvision import datasets, transforms\n",
    "from torch.utils.data import DataLoader\n",
    "\n",
    "# Use the full Fashion MNIST dataset from Task 7\n",
    "MNISTdataset = MNISTdataset\n",
    "\n",
    "############ Answer here ############\n",
    "# (1) Define batch size and instantiate the MLP model with your selected hyperparameters.\n",
    "batch_size = 256\n",
    "model = MLP(num_outputs=10, num_hiddens1=128, num_hiddens2=64, dropout_rate=0.5, lr=0.1)\n",
    "\n",
    "# (2) Instantiate the trainer with the full dataset (Trainer will handle splitting)\n",
    "trainer = Trainer_cls(model, MNISTdataset, max_epochs=10, batch_size=batch_size, device='cpu')\n",
    "\n",
    "# (3) Start training\n",
    "trainer.fit()\n",
    "#####################################\n",
    "\n",
    "# (4)plot the losses and accuracies\n",
    "# should have better performance than single-layer neural network classifier\n",
    "trainer.plot_losses()"
   ]
  },
  {
   "cell_type": "markdown",
   "metadata": {
    "id": "J_RG_rCusilM"
   },
   "source": [
    "#  3. Convolutional Neural Networks"
   ]
  },
  {
   "cell_type": "markdown",
   "metadata": {
    "id": "dgZkLU7csilM"
   },
   "source": [
    "## 3.1 Implement the 2-dimensional Convolutional Operator [10pts]\n",
    "\n",
    "Here, we are going to implement the 2-dimensional convolutional operator with padding and stride from the scratch.\n",
    "\n",
    "Check the slides in class or this [link](https://medium.com/@Tms43/understanding-padding-strides-in-convolutional-neural-networks-cnn-for-effective-image-feature-1b0756a52918) for understanding."
   ]
  },
  {
   "cell_type": "markdown",
   "metadata": {
    "id": "PWgEUHptsilM"
   },
   "source": [
    "### Task 10: Complete the following `corr2d` function as the 2-dimensional convolutional operator with padding and stride.\n",
    "\n",
    "Hint are given in comments. Any implemented conv2d functions from torch/tensorflow/Jax are not allowed."
   ]
  },
  {
   "cell_type": "code",
   "execution_count": 13,
   "metadata": {
    "id": "oN56NezgsilM"
   },
   "outputs": [],
   "source": [
    "# X is the input image and K is the kernel for convolutional operator\n",
    "def corr2d(X0, K, stride=1, padding=0):\n",
    "    # (1) Add padding to the height and width of the image to get the X with padding, you can use torch.nn.functional.pad.\n",
    "    ############ Answer here ############\n",
    "    if padding > 0:\n",
    "        X = torch.nn.functional.pad(X0, (padding, padding, padding, padding))\n",
    "    else:\n",
    "        X = X0\n",
    "    #####################################\n",
    "\n",
    "    # (2) Compute the height and width of Y after convolution given stride, padding size and kernel shape.\n",
    "    h, w = K.shape\n",
    "    ############ Answer here ############\n",
    "    Y_h = (X.shape[0] - h) // stride + 1\n",
    "    Y_w = (X.shape[1] - w) // stride + 1\n",
    "    #####################################\n",
    "    Y = torch.zeros((Y_h, Y_w))\n",
    "\n",
    "    # (3) compute the value for each pixel of Y\n",
    "    for i in range(Y.shape[0]):\n",
    "        for j in range(Y.shape[1]):\n",
    "            ############ Answer here ############\n",
    "            x_start = i * stride\n",
    "            y_start = j * stride\n",
    "            Y[i, j] = (X[x_start:x_start + h, y_start:y_start + w] * K).sum()\n",
    "            #####################################\n",
    "    return Y"
   ]
  },
  {
   "cell_type": "markdown",
   "metadata": {
    "id": "h4TB2eJ0silM"
   },
   "source": [
    "Run the following code to check your implementation of corr2d, the result should be:"
   ]
  },
  {
   "cell_type": "markdown",
   "metadata": {
    "id": "cUV2vq0EsilM"
   },
   "source": [
    "tensor([[19., 25.],\n",
    "        [37., 43.]])\n",
    "tensor([[ 0.,  3.,  8.,  4.],\n",
    "        [ 9., 19., 25., 10.],\n",
    "        [21., 37., 43., 16.],\n",
    "        [ 6.,  7.,  8.,  0.]])\n",
    "tensor([[ 0.,  8.],\n",
    "        [21., 43.]])\n",
    "tensor([[0., 4.],\n",
    "        [6., 0.]])\n",
    "tensor([[0.]])"
   ]
  },
  {
   "cell_type": "code",
   "execution_count": 14,
   "metadata": {
    "colab": {
     "base_uri": "https://localhost:8080/"
    },
    "id": "9XUFarKTsilM",
    "outputId": "a070d8d0-d4e2-4232-992e-930af48f1fa9"
   },
   "outputs": [
    {
     "name": "stdout",
     "output_type": "stream",
     "text": [
      "tensor([[19., 25.],\n",
      "        [37., 43.]])\n",
      "tensor([[ 0.,  3.,  8.,  4.],\n",
      "        [ 9., 19., 25., 10.],\n",
      "        [21., 37., 43., 16.],\n",
      "        [ 6.,  7.,  8.,  0.]])\n",
      "tensor([[ 0.,  8.],\n",
      "        [21., 43.]])\n",
      "tensor([[0., 4.],\n",
      "        [6., 0.]])\n",
      "tensor([[0.]])\n"
     ]
    }
   ],
   "source": [
    "# Check your result here, help you adjust your corr2d implementation\n",
    "X = torch.tensor([[0.0, 1.0, 2.0], [3.0, 4.0, 5.0], [6.0, 7.0, 8.0]])\n",
    "K = torch.tensor([[0.0, 1.0], [2.0, 3.0]])\n",
    "print(corr2d(X, K, stride=1, padding=0))\n",
    "print(corr2d(X, K, stride=1, padding=1))\n",
    "print(corr2d(X, K, stride=2, padding=1))\n",
    "print(corr2d(X, K, stride=3, padding=1))\n",
    "print(corr2d(X, K, stride=4, padding=1))"
   ]
  },
  {
   "cell_type": "markdown",
   "metadata": {
    "id": "IL8PDsP_silM"
   },
   "source": [
    "## 3.2 Learn the kernel [10pts]\n",
    "\n",
    "The kernel `K` in `corr2d` is the above is the target to be learnt for Convolutional Neural Networks. In Task 11, we will show it in a simple example."
   ]
  },
  {
   "cell_type": "markdown",
   "metadata": {
    "id": "jjk8q1EhsilM"
   },
   "source": [
    "We first build a toy image with shape (8,6), where row 1-3, 6-8 are white and row 4-5 are black."
   ]
  },
  {
   "cell_type": "code",
   "execution_count": 15,
   "metadata": {
    "colab": {
     "base_uri": "https://localhost:8080/"
    },
    "id": "UA9o1cymsilM",
    "outputId": "daa956e9-2bbb-4da7-d7cc-4803000cb90e"
   },
   "outputs": [
    {
     "data": {
      "text/plain": [
       "tensor([[1., 1., 1., 1., 1., 1.],\n",
       "        [1., 1., 1., 1., 1., 1.],\n",
       "        [1., 1., 1., 1., 1., 1.],\n",
       "        [0., 0., 0., 0., 0., 0.],\n",
       "        [0., 0., 0., 0., 0., 0.],\n",
       "        [1., 1., 1., 1., 1., 1.],\n",
       "        [1., 1., 1., 1., 1., 1.],\n",
       "        [1., 1., 1., 1., 1., 1.]])"
      ]
     },
     "execution_count": 15,
     "metadata": {},
     "output_type": "execute_result"
    }
   ],
   "source": [
    "X = torch.ones((8, 6))\n",
    "X[3:5,] = 0\n",
    "X"
   ]
  },
  {
   "cell_type": "markdown",
   "metadata": {
    "id": "RN-wLmzHsilM"
   },
   "source": [
    "Then, we handcraft a kernel `K` as a horizontal edge detector. `corr2d(X, K)` gives the output as："
   ]
  },
  {
   "cell_type": "code",
   "execution_count": 16,
   "metadata": {
    "colab": {
     "base_uri": "https://localhost:8080/"
    },
    "id": "aE2Nkz6DsilM",
    "outputId": "33382327-5657-4e7a-ee04-41d4f2af42d5"
   },
   "outputs": [
    {
     "data": {
      "text/plain": [
       "tensor([[ 0.,  0.,  0.,  0.,  0.,  0.],\n",
       "        [ 0.,  0.,  0.,  0.,  0.,  0.],\n",
       "        [ 1.,  1.,  1.,  1.,  1.,  1.],\n",
       "        [ 0.,  0.,  0.,  0.,  0.,  0.],\n",
       "        [-1., -1., -1., -1., -1., -1.],\n",
       "        [ 0.,  0.,  0.,  0.,  0.,  0.],\n",
       "        [ 0.,  0.,  0.,  0.,  0.,  0.]])"
      ]
     },
     "execution_count": 16,
     "metadata": {},
     "output_type": "execute_result"
    }
   ],
   "source": [
    "K = torch.tensor([[1.0], [-1.0]])\n",
    "Y = corr2d(X, K)\n",
    "Y"
   ]
  },
  {
   "cell_type": "markdown",
   "metadata": {
    "id": "zjIlCqG6silS"
   },
   "source": [
    "If we transpose the image, `corr2d(X, K)` will output:"
   ]
  },
  {
   "cell_type": "code",
   "execution_count": 17,
   "metadata": {
    "colab": {
     "base_uri": "https://localhost:8080/"
    },
    "id": "4tbNUhHFsilS",
    "outputId": "d24ae2a6-00f8-47e1-8e02-05b0ce791620"
   },
   "outputs": [
    {
     "data": {
      "text/plain": [
       "tensor([[0., 0., 0., 0., 0., 0., 0., 0.],\n",
       "        [0., 0., 0., 0., 0., 0., 0., 0.],\n",
       "        [0., 0., 0., 0., 0., 0., 0., 0.],\n",
       "        [0., 0., 0., 0., 0., 0., 0., 0.],\n",
       "        [0., 0., 0., 0., 0., 0., 0., 0.]])"
      ]
     },
     "execution_count": 17,
     "metadata": {},
     "output_type": "execute_result"
    }
   ],
   "source": [
    "corr2d(X.t(), K)"
   ]
  },
  {
   "cell_type": "markdown",
   "metadata": {
    "id": "UfzaLRExsilS"
   },
   "source": [
    "It indicates that kernel `K = torch.tensor([[1.0], [-1.0]])` can only detect horizontal edges not vertical ones."
   ]
  },
  {
   "cell_type": "markdown",
   "metadata": {
    "id": "C9DKevZ5silS"
   },
   "source": [
    "Further, we can treat the `K` as an unknown kernel to learn. `K` is a kenerl in the convolution operation that leads to horizontal edge awareness.\n",
    "\n",
    "Thus, to learn the unknown `K` given above `X` and `Y`, we can treat `K` as the weight of a single-layer neural network but in the manner of convolution operation to perform forward propagation."
   ]
  },
  {
   "cell_type": "markdown",
   "metadata": {
    "id": "bESO-SSHsilS"
   },
   "source": [
    "### Task 11: A simple Conv2D model\n",
    "In the following, build a simple Conv2D model class `Conv2D` without bias term for learning the horizontal edge detector kernel `K`."
   ]
  },
  {
   "cell_type": "code",
   "execution_count": 18,
   "metadata": {
    "id": "wDOELjvSsilS"
   },
   "outputs": [],
   "source": [
    "class Conv2D(nn.Module):\n",
    "    def __init__(self, kernel_size,stride=1, padding=0):\n",
    "        super().__init__()\n",
    "        # (1) define the weight using nn.Parameter to parameterize K, define stride and padding.\n",
    "        ############ Answer here ############\n",
    "        self.weight = nn.Parameter(torch.randn(kernel_size))\n",
    "        self.stride = stride\n",
    "        self.padding = padding\n",
    "        #####################################\n",
    "\n",
    "    def forward(self, x):\n",
    "        # (2) forward propagation of x with parameterized kernel self.weight in the manner of corr2d\n",
    "        ############ Answer here ############\n",
    "        return corr2d(x, self.weight, stride=self.stride, padding=self.padding)\n",
    "        #####################################"
   ]
  },
  {
   "cell_type": "markdown",
   "metadata": {
    "id": "J8PdxzaksilS"
   },
   "source": [
    "### Task 12: fitting the simple Conv2D model to find the horizontal edge detector kernel\n"
   ]
  },
  {
   "cell_type": "code",
   "execution_count": 19,
   "metadata": {
    "colab": {
     "base_uri": "https://localhost:8080/"
    },
    "id": "uobiNxZWsilS",
    "outputId": "b5233b80-af3f-4e6d-bc8e-de36644279f6"
   },
   "outputs": [
    {
     "name": "stdout",
     "output_type": "stream",
     "text": [
      "epoch 2, loss 0.101\n",
      "epoch 4, loss 0.059\n",
      "epoch 6, loss 0.036\n",
      "epoch 8, loss 0.021\n",
      "epoch 10, loss 0.013\n",
      "epoch 12, loss 0.008\n",
      "epoch 14, loss 0.005\n",
      "epoch 16, loss 0.003\n",
      "epoch 18, loss 0.002\n",
      "epoch 20, loss 0.001\n",
      "epoch 22, loss 0.001\n",
      "epoch 24, loss 0.000\n",
      "epoch 26, loss 0.000\n",
      "epoch 28, loss 0.000\n",
      "epoch 30, loss 0.000\n",
      "epoch 32, loss 0.000\n",
      "epoch 34, loss 0.000\n",
      "epoch 36, loss 0.000\n",
      "epoch 38, loss 0.000\n",
      "epoch 40, loss 0.000\n",
      "epoch 42, loss 0.000\n",
      "epoch 44, loss 0.000\n",
      "epoch 46, loss 0.000\n",
      "epoch 48, loss 0.000\n",
      "epoch 50, loss 0.000\n",
      "epoch 52, loss 0.000\n",
      "epoch 54, loss 0.000\n",
      "epoch 56, loss 0.000\n",
      "epoch 58, loss 0.000\n",
      "epoch 60, loss 0.000\n",
      "epoch 62, loss 0.000\n",
      "epoch 64, loss 0.000\n",
      "epoch 66, loss 0.000\n",
      "epoch 68, loss 0.000\n",
      "epoch 70, loss 0.000\n",
      "epoch 72, loss 0.000\n",
      "epoch 74, loss 0.000\n",
      "epoch 76, loss 0.000\n",
      "epoch 78, loss 0.000\n",
      "epoch 80, loss 0.000\n",
      "epoch 82, loss 0.000\n",
      "epoch 84, loss 0.000\n",
      "epoch 86, loss 0.000\n",
      "epoch 88, loss 0.000\n",
      "epoch 90, loss 0.000\n",
      "epoch 92, loss 0.000\n",
      "epoch 94, loss 0.000\n",
      "epoch 96, loss 0.000\n",
      "epoch 98, loss 0.000\n",
      "epoch 100, loss 0.000\n"
     ]
    }
   ],
   "source": [
    "# (1) Instantiate your model with your defined 'Conv2D'\n",
    "############ Answer here ############\n",
    "conv2d = Conv2D(kernel_size=(2, 1), stride=1, padding=0)\n",
    "#####################################\n",
    "lr = 1e-2  # Learning rate\n",
    "\n",
    "# (2) Training\n",
    "for i in range(100):\n",
    "    ############ Answer here ############\n",
    "    # forward propagation\n",
    "    Y_hat = conv2d(X)\n",
    "    # squared loss computation\n",
    "    l = ((Y_hat - Y) ** 2).sum()\n",
    "    # clear gradient and back propagation to get the gradient\n",
    "    conv2d.zero_grad()\n",
    "    l.backward()\n",
    "    # update the kernel\n",
    "    conv2d.weight.data[:] -= lr * conv2d.weight.grad\n",
    "    #####################################\n",
    "\n",
    "    if (i + 1) % 2 == 0:\n",
    "        print(f'epoch {i + 1}, loss {l.sum():.3f}')"
   ]
  },
  {
   "cell_type": "markdown",
   "metadata": {
    "id": "wKhxbwMTsilS"
   },
   "source": [
    "Check your result by running following cell. It should be very closed to `tensor([[ 1.0000],[-1.0000]])`."
   ]
  },
  {
   "cell_type": "code",
   "execution_count": 20,
   "metadata": {
    "colab": {
     "base_uri": "https://localhost:8080/"
    },
    "id": "r-ozvfiUsilT",
    "outputId": "00928051-746e-4a26-fa20-40e4ef652ebe"
   },
   "outputs": [
    {
     "data": {
      "text/plain": [
       "tensor([[ 1.0000],\n",
       "        [-1.0000]])"
      ]
     },
     "execution_count": 20,
     "metadata": {},
     "output_type": "execute_result"
    }
   ],
   "source": [
    "conv2d.weight.data.reshape((2, 1))\n"
   ]
  },
  {
   "cell_type": "markdown",
   "metadata": {
    "id": "A_5T7PXOsilT"
   },
   "source": [
    "## 3.3 Implement modern Convolutional Neural Networks ResNet18 for classification [20pts]"
   ]
  },
  {
   "cell_type": "markdown",
   "metadata": {
    "id": "SCgFhmP3silT"
   },
   "source": [
    "In 3.3, you will implement [ResNet18](https://arxiv.org/pdf/1512.03385) a Convolutional Neural Network with Residual blocks.\n",
    "\n",
    "We will implement the 18-layer version of ResNet. The architecture of ResNet18 is in following tabel (Tabel 1 of [paper](https://arxiv.org/pdf/1512.03385)):\n",
    "\n",
    "# ![title](img/3.png)\n",
    "\n",
    "We can find that ResNet18 has 6 modules. The first module is made of a convolutional layer, a batch normal layer and a max pooling layer. The 4 middle residual modules have different channel number 64, 128, 256, 512. Each residual module is made of two residual blocks. A residual block looks like this:\n",
    "\n",
    "# ![title](img/2.png)\n"
   ]
  },
  {
   "cell_type": "markdown",
   "metadata": {
    "id": "H0FpiOkIsilT"
   },
   "source": [
    "The 1x1 conv (right one) only applies to the first residual block of the 2nd, 3rd and 4th middle residual modules. The other (2 residual blocks of 1st middle residual module, 2nd residual blocks of the other middle residual modules) residual blocks are the left one.\n",
    "\n",
    "After the first module and 4 residual modules, the last module includes an average pooling layer and full connected linear layer for prediction."
   ]
  },
  {
   "cell_type": "markdown",
   "metadata": {
    "id": "34uzN5v5silT"
   },
   "source": [
    "### Task 13: Implement ResNet18\n",
    "\n",
    "In following, you will need complete `Residual` class to define a general residual block to formulate each residual module. And complete 6 modules in `ResNet` class (mainly 1st and last module, the residual modules are based on your `Residual` class). After it, you need to complete the `optimizers` and `loss` in `ResNet18` class.\n"
   ]
  },
  {
   "cell_type": "code",
   "execution_count": 21,
   "metadata": {
    "id": "gZZnSjrzsilT"
   },
   "outputs": [],
   "source": [
    "import torch\n",
    "import torch.nn as nn\n",
    "\n",
    "class Residual(nn.Module):\n",
    "    def __init__(self, num_channels, use_1x1conv=False, strides=1):\n",
    "        super(Residual, self).__init__()\n",
    "        #recommend LazyConv2d for easier implementation\n",
    "        ############ Answer here ############\n",
    "        # the first convolutional layer has kernel_size 3, padding 1. If it is the first residual block of the 2nd, 3rd and 4th middle residual modules, the stride is 2 (1 otherwise).\n",
    "        # You may set the stride=strides as the stride value for the first convolutional layer of the residual block may vary. We can adjust it by control stride in the ResNet class,\n",
    "        self.conv1 = nn.LazyConv2d(num_channels, kernel_size=3, padding=1, stride=strides)\n",
    "        # the second convolutional layer has kernel_size 3, padding 1, stride 1.\n",
    "        self.conv2 = nn.LazyConv2d(num_channels, kernel_size=3, padding=1, stride=1)\n",
    "        #####################################\n",
    "\n",
    "        ############ Answer here ############\n",
    "        if use_1x1conv:\n",
    "            # 1x1 conv residual connection (kernel_size 1, stride is 2) for the first residual block of the 2nd, 3rd and 4th middle residual modules.\n",
    "            # You may set the stride=strides\n",
    "            self.conv3 = nn.LazyConv2d(num_channels, kernel_size=1, stride=strides)\n",
    "        else:\n",
    "            # identity residual connection for other cases\n",
    "            self.conv3 = nn.Identity()\n",
    "        #####################################\n",
    "\n",
    "        # define 2 batch norm layers in the residual block using LazyBatchNorm2d\n",
    "        ############ Answer here ############\n",
    "        self.bn1 = nn.LazyBatchNorm2d()\n",
    "        self.bn2 = nn.LazyBatchNorm2d()\n",
    "        #####################################\n",
    "\n",
    "    def forward(self, x):\n",
    "        ############ Answer here ############\n",
    "        # conv1 -> BN1 -> ReLU -> conv -> BN2 -> Y\n",
    "        y = nn.functional.relu(self.bn1(self.conv1(x)))\n",
    "        y = self.bn2(self.conv2(y))\n",
    "        # Residual term\n",
    "        residual = x\n",
    "        if self.conv3:\n",
    "            residual = self.conv3(x)\n",
    "        # Y + residual term\n",
    "        y += residual\n",
    "        # ReLU activation for the final output\n",
    "        return nn.functional.relu(y)\n",
    "        #####################################\n",
    "\n",
    "class ResNet(nn.Module):\n",
    "    def __init__(self, arch, num_classes=10):\n",
    "        super(ResNet, self).__init__()\n",
    "        self.net = nn.Sequential()\n",
    "        # complete self.net.add_module('b1',)\n",
    "        # use nn.Sequential to construct the 1st('b1') module\n",
    "        # conv (padding 3) -> BN -> ReLU -> Max Pooling (padding 1)\n",
    "        # check the above tabel and paper for other hyperparameters\n",
    "        ############ Answer here ############\n",
    "        self.net.add_module('b1', nn.Sequential(\n",
    "            nn.Conv2d(1, 64, kernel_size=7, stride=2, padding=3),\n",
    "            nn.BatchNorm2d(64),\n",
    "            nn.ReLU(),\n",
    "            nn.MaxPool2d(kernel_size=3, stride=2, padding=1)\n",
    "        ))\n",
    "        #####################################\n",
    "\n",
    "        for i, (num_residuals, num_channels) in enumerate(arch):\n",
    "            self.net.add_module(f'b{i+2}', self.block(num_residuals, num_channels, first_block=(i==0)))\n",
    "\n",
    "        # complete self.net.add_module('last',)\n",
    "        # use nn.Sequential to construct the 'last' module\n",
    "        # AdaptiveAvgPool2d (1,1) -> Flatten -> Linear (input dimension: 512, output dimension: num_classes)\n",
    "        ############ Answer here ############\n",
    "        self.net.add_module('last', nn.Sequential(\n",
    "            nn.AdaptiveAvgPool2d((1, 1)),\n",
    "            nn.Flatten(),\n",
    "            nn.Linear(512, num_classes)\n",
    "        ))\n",
    "        #####################################\n",
    "\n",
    "        self.net.apply(self.init_cnn)\n",
    "\n",
    "    def block(self, num_residuals, num_channels, first_block=False):\n",
    "        layers = []\n",
    "        for i in range(num_residuals):\n",
    "            if i == 0 and not first_block:\n",
    "                layers.append(Residual(num_channels, use_1x1conv=True, strides=2))\n",
    "            else:\n",
    "                layers.append(Residual(num_channels))\n",
    "        return nn.Sequential(*layers)\n",
    "\n",
    "    def init_cnn(self,module):\n",
    "        if type(module) == nn.Linear or type(module) == nn.Conv2d:\n",
    "            nn.init.xavier_uniform_(module.weight)\n",
    "\n",
    "    def forward(self, x):\n",
    "        # forward propagation\n",
    "        ############ Answer here ############\n",
    "        return self.net(x)\n",
    "        #####################################\n",
    "\n",
    "class ResNet18(ResNet):\n",
    "    def __init__(self, num_classes=10,lr=0.1):\n",
    "        super(ResNet18, self).__init__(((2, 64), (2, 128), (2, 256), (2, 512)), num_classes)\n",
    "        self.lr=lr\n",
    "\n",
    "    def optimizers(self):\n",
    "        # define the SGD optimizers\n",
    "        ############ Answer here ############\n",
    "        return optim.SGD(self.parameters(), lr=self.lr)\n",
    "        #####################################\n",
    "\n",
    "    def loss(self, Y_hat, Y, averaged=True):\n",
    "        # define the cross_entropy loss for classification\n",
    "        ############ Answer here ############\n",
    "        criterion = nn.CrossEntropyLoss()\n",
    "        return criterion(Y_hat, Y)\n",
    "        #####################################\n"
   ]
  },
  {
   "cell_type": "code",
   "execution_count": 22,
   "metadata": {
    "colab": {
     "base_uri": "https://localhost:8080/",
     "height": 628
    },
    "id": "cH5wqgpIsilT",
    "outputId": "c8d2aebe-3944-4c5c-fcf8-783a5ac716ae"
   },
   "outputs": [
    {
     "name": "stdout",
     "output_type": "stream",
     "text": [
      "Epoch [1/10]: Train Loss: 0.4776, Val Loss: 0.3825, Val Acc: 86.07%\n",
      "Epoch [2/10]: Train Loss: 0.2759, Val Loss: 0.3538, Val Acc: 87.25%\n",
      "Epoch [3/10]: Train Loss: 0.2143, Val Loss: 0.2757, Val Acc: 89.83%\n",
      "Epoch [4/10]: Train Loss: 0.1659, Val Loss: 0.2527, Val Acc: 90.97%\n",
      "Epoch [5/10]: Train Loss: 0.1258, Val Loss: 0.3703, Val Acc: 87.62%\n",
      "Epoch [6/10]: Train Loss: 0.0907, Val Loss: 0.2953, Val Acc: 89.94%\n",
      "Epoch [7/10]: Train Loss: 0.0690, Val Loss: 0.3148, Val Acc: 90.50%\n",
      "Epoch [8/10]: Train Loss: 0.0426, Val Loss: 0.2977, Val Acc: 90.89%\n",
      "Epoch [9/10]: Train Loss: 0.0256, Val Loss: 0.3781, Val Acc: 90.04%\n",
      "Epoch [10/10]: Train Loss: 0.0113, Val Loss: 0.2968, Val Acc: 91.96%\n"
     ]
    },
    {
     "data": {
      "image/png": "[encoded data removed]",
      "text/plain": [
       "<Figure size 640x480 with 1 Axes>"
      ]
     },
     "metadata": {},
     "output_type": "display_data"
    }
   ],
   "source": [
    "from torchvision import datasets, transforms\n",
    "from torch.utils.data import DataLoader\n",
    "############ Answer here ############\n",
    "# (1) add resize image to (96, 96) into the transform\n",
    "# Load the full Fashion MNIST dataset with torchvision\n",
    "transform = transforms.Compose([\n",
    "    transforms.Resize((96, 96)),\n",
    "    transforms.ToTensor(),\n",
    "    transforms.Normalize((0.5,), (0.5,))\n",
    "])\n",
    "MNISTdataset = datasets.FashionMNIST(root='./data', train=True, download=True, transform=transform)\n",
    "\n",
    "# (2) Define batch size and instantiate the ResNet18 model with lr=0.01\n",
    "# set the model to GPU\n",
    "batch_size = 256\n",
    "model = ResNet18(num_classes=10, lr=0.01).to('cuda')\n",
    "\n",
    "# (3) Instantiate the trainer with the full dataset (Trainer will handle splitting)\n",
    "# set device to cuda to have faster training\n",
    "trainer = Trainer_cls(model, MNISTdataset, max_epochs=10, batch_size=batch_size, device='cuda')\n",
    "\n",
    "# (4) Start training\n",
    "trainer.fit()\n",
    "#####################################\n",
    "\n",
    "# (5)plot the losses and accuracies\n",
    "# should have better performance than single-layer neural network classifier\n",
    "trainer.plot_losses()"
   ]
  }
 ],
 "metadata": {
  "accelerator": "GPU",
  "colab": {
   "gpuType": "T4",
   "provenance": []
  },
  "kernelspec": {
   "display_name": "Python 3 (ipykernel)",
   "language": "python",
   "name": "python3"
  },
  "language_info": {
   "codemirror_mode": {
    "name": "ipython",
    "version": 3
   },
   "file_extension": ".py",
   "mimetype": "text/x-python",
   "name": "python",
   "nbconvert_exporter": "python",
   "pygments_lexer": "ipython3",
   "version": "3.11.5"
  }
 },
 "nbformat": 4,
 "nbformat_minor": 4
}
